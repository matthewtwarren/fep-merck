{
 "cells": [
  {
   "attachments": {},
   "cell_type": "markdown",
   "metadata": {},
   "source": [
    "## Merck FEP+ dataset formatting\n",
    "\n",
    "##### Inputs\n",
    "- ```.pdb``` file containing protein structures\n",
    "\n",
    "- ```.sdf``` file containing ligand names, coordinates and DeltaG values\n",
    "\n",
    "\n",
    "##### Output\n",
    "\n",
    "- ```.pdb``` file for each ligand\n",
    "\n",
    "- Train, validation and test data files for aescore with the following format:\n",
    "\n",
    "        DeltaG path/to/protein.pdb path/to/ligand.pdb\n",
    "\n",
    "\n"
   ]
  },
  {
   "cell_type": "code",
   "execution_count": 5,
   "metadata": {},
   "outputs": [],
   "source": [
    "import rdkit\n",
    "from rdkit import Chem\n",
    "import os\n",
    "import pickle\n",
    "import pandas as pd\n",
    "import numpy as np\n",
    "import sys\n",
    "sys.path.append('/biggin/t001/bioc1805/Documents/Python')\n",
    "sys.path.append('/biggin/t001/bioc1805/Git/aescore/analysis')\n",
    "from data import dg_to_pk, format_name"
   ]
  },
  {
   "cell_type": "code",
   "execution_count": 6,
   "metadata": {},
   "outputs": [],
   "source": [
    "def getDirNames(path):\n",
    "    return [name for name in os.listdir(path) if os.path.isdir(os.path.join(path, name))]"
   ]
  },
  {
   "cell_type": "code",
   "execution_count": 7,
   "metadata": {},
   "outputs": [],
   "source": [
    "def format_ligand_name(name):\n",
    "    \"\"\" Format the ligand name to match AEScore and FEP results files. \"\"\"\n",
    "    name = name.replace(' ', '_')\n",
    "    name = name.split('/')[0]\n",
    "\n",
    "    if \"(\" in name:\n",
    "        name = name.replace(\"(\", \"_\")\n",
    "    if \")\" in name:\n",
    "        name = name.replace(\")\", \"\")\n",
    "\n",
    "    return name"
   ]
  },
  {
   "cell_type": "code",
   "execution_count": 8,
   "metadata": {},
   "outputs": [],
   "source": [
    "def getLigandDataFromSDF(sdf_file, aff_props, id_prop='_Name', removeHs=False):\n",
    "    \"\"\"\n",
    "    Read in a SDF file and return a nested dictionary of ligand data.\n",
    "\n",
    "    Parameters\n",
    "    ----------\n",
    "    sdf_file : str \n",
    "        Path to SDF file.\n",
    "    properties : list\n",
    "        List of properties to extract from SDF file.\n",
    "    removeHs : bool, optional\n",
    "        Remove hydrogens from the ligand molecules. Default is False.\n",
    "    \"\"\"\n",
    "\n",
    "    suppl = Chem.SDMolSupplier(sdf_file,removeHs=removeHs)\n",
    "    lig_objs = [m for m in suppl if m is not None]\n",
    "    lig_data = {}\n",
    "\n",
    "    for m in lig_objs:\n",
    "\n",
    "        id = m.GetProp(id_prop)\n",
    "        id = format_ligand_name(id)\n",
    "\n",
    "        for aff_prop in aff_props:\n",
    "            try:\n",
    "                aff = float(m.GetProp(aff_prop))\n",
    "                break\n",
    "            except:\n",
    "                continue\n",
    "\n",
    "        lig_data[id] = {aff_prop: aff, 'rdmol': m}\n",
    "        \n",
    "    return lig_data"
   ]
  },
  {
   "cell_type": "code",
   "execution_count": 9,
   "metadata": {},
   "outputs": [],
   "source": [
    "def molToPDB(lig_data, target_name, outdir):\n",
    "    \"\"\"\n",
    "    Write out a PDB file for each molecule in a dictionary of molecule data. \n",
    "    \"\"\"\n",
    "    saved = total = 0\n",
    "\n",
    "    for lig_id in lig_data.keys():\n",
    "        mol = lig_data[lig_id]['rdmol']\n",
    "        try:\n",
    "            Chem.MolToPDBFile(mol, '{}/{}_ligand_{}.pdb'.format(outdir, target_name, lig_id))\n",
    "            saved += 1\n",
    "        except:\n",
    "            print('Error writing {} to PDB file'.format(lig_id))\n",
    "        \n",
    "        total += 1\n",
    "    \n",
    "    print('{} out of {} {} ligands saved to {}'.format(saved, total, target_name, outdir))"
   ]
  },
  {
   "cell_type": "code",
   "execution_count": 10,
   "metadata": {},
   "outputs": [],
   "source": [
    "def mol_to_sdf(lig_data, target_name, outdir):\n",
    "    \"\"\"\n",
    "    Write out a SDF file for each molecule in a dictionary of molecule data. \n",
    "    \"\"\"\n",
    "    saved = total = 0\n",
    "\n",
    "    for lig_id in lig_data.keys():\n",
    "        mol = lig_data[lig_id]['rdmol']\n",
    "        try:\n",
    "            w = Chem.SDWriter('{}/{}_ligand_{}.sdf'.format(outdir, target_name, lig_id))\n",
    "            w.write(mol)\n",
    "            w.close()\n",
    "            saved += 1\n",
    "        except:\n",
    "            print('Error writing {} to SDF file'.format(lig_id))\n",
    "        \n",
    "        total += 1\n",
    "    \n",
    "    print('{} out of {} {} ligands saved to {}'.format(saved, total, target_name, outdir))"
   ]
  },
  {
   "attachments": {},
   "cell_type": "markdown",
   "metadata": {},
   "source": [
    "### Creating a dictionary of ligand data and ligand PDB files"
   ]
  },
  {
   "cell_type": "code",
   "execution_count": 11,
   "metadata": {
    "tags": []
   },
   "outputs": [],
   "source": [
    "targets = getDirNames('../data')\n",
    "mol_data_dict = {target: getLigandDataFromSDF(sdf_file=f'../data/{target}/{target}_ligands.sdf',\n",
    "                                              aff_props=['IC50 uM', 'IC50[uM]','IC50[uM](SPA)','IC50[nM]']) for target in targets}\n",
    "\n",
    "#pickle.dump(mol_data_dict, open('../data/all_ligands_mol_dict.pkl', 'wb'))"
   ]
  },
  {
   "cell_type": "code",
   "execution_count": 33,
   "metadata": {},
   "outputs": [
    {
     "name": "stdout",
     "output_type": "stream",
     "text": [
      "40 out of 40 pfkfb3 ligands saved to ../data/pfkfb3\n",
      "33 out of 33 cdk8 ligands saved to ../data/cdk8\n",
      "26 out of 26 shp2 ligands saved to ../data/shp2\n",
      "28 out of 28 eg5_alternativeloop ligands saved to ../data/eg5_alternativeloop\n",
      "42 out of 42 hif2a ligands saved to ../data/hif2a\n",
      "44 out of 44 syk ligands saved to ../data/syk\n",
      "27 out of 27 tnks2 ligands saved to ../data/tnks2\n",
      "24 out of 24 cmet ligands saved to ../data/cmet\n",
      "28 out of 28 eg5 ligands saved to ../data/eg5\n"
     ]
    }
   ],
   "source": [
    "for target in mol_data_dict:\n",
    "    #molToPDB(mol_data_dict[target], target, '../data/{}'.format(target))\n",
    "    mol_to_sdf(mol_data_dict[target], target, '../data/{}'.format(target))\n",
    "\n"
   ]
  },
  {
   "attachments": {},
   "cell_type": "markdown",
   "metadata": {},
   "source": [
    "### Read in dG values"
   ]
  },
  {
   "cell_type": "code",
   "execution_count": 181,
   "metadata": {},
   "outputs": [],
   "source": [
    "def formatTargetName(name):\n",
    "    \n",
    "    if isinstance(name, str):\n",
    "        \n",
    "        if ' ' in name:\n",
    "            name = name.replace(' ', '_')\n",
    "        \n",
    "        if '/' in name:\n",
    "            name = name.replace('/', '_')\n",
    "        \n",
    "        if '.0' in name:\n",
    "            name = name.replace('.0', '')\n",
    "    \n",
    "    if isinstance(name, float):\n",
    "        return str(int(name))\n",
    "\n",
    "    return name"
   ]
  },
  {
   "cell_type": "code",
   "execution_count": 182,
   "metadata": {},
   "outputs": [],
   "source": [
    "def findFile(path, search_string):\n",
    "    \"\"\"\n",
    "    Find a file in a directory that contains a given string.\n",
    "    \"\"\"\n",
    "    matches = []\n",
    "    for file in os.listdir(path):\n",
    "        if search_string in file:\n",
    "            matches.append(file)\n",
    "\n",
    "    if len(matches) == 0:\n",
    "        raise ValueError(f'No files found containing string \"{search_string}\"')\n",
    "    \n",
    "    elif len(matches) > 1:\n",
    "        raise ValueError(f'Multiple files found containing string \"{search_string}\"')\n",
    "    \n",
    "    else:\n",
    "        return matches[0]"
   ]
  },
  {
   "cell_type": "code",
   "execution_count": 183,
   "metadata": {},
   "outputs": [],
   "source": [
    "targets = getDirNames('../data')\n",
    "mol_data_dict = pickle.load(open('../data/all_ligands_mol_dict.pkl', 'rb'))\n",
    "\n",
    "for target in targets:\n",
    "    if target == 'eg5_alternativeloop':\n",
    "        continue\n",
    "    else:\n",
    "        fep_data = pd.read_csv(f'../data/{target}/results_20ns.csv')\n",
    "        \n",
    "        for i, row in fep_data.iterrows():\n",
    "            ligand = formatTargetName(row['Ligand'])\n",
    "\n",
    "            try:\n",
    "                mol_data_dict[target][ligand]['Exp. dG'] = row['Exp. ΔG']\n",
    "                mol_data_dict[target][ligand]['Pred. dG'] = row['Pred. ΔG']\n",
    "                mol_data_dict[target][ligand]['Pred. Error'] = row['Pred. Error']\n",
    "\n",
    "            except:\n",
    "                print(f'Error processing {target} {ligand}')\n",
    "\n",
    "pickle.dump(mol_data_dict, open('../data/all_ligands_mol_dict.pkl', 'wb'))"
   ]
  },
  {
   "cell_type": "code",
   "execution_count": 192,
   "metadata": {},
   "outputs": [],
   "source": [
    "mol_dict = pickle.load(open('../data/all_ligands_mol_dict.pkl', 'rb'))\n",
    "\n",
    "loc_dict = dict()\n",
    "\n",
    "for target in mol_dict.keys():\n",
    "    \n",
    "    if target == 'eg5_alternativeloop':\n",
    "        continue\n",
    "    \n",
    "    target_pdb = findFile(f\"../data/{target}\", \"prepared\" )\n",
    "    target_loc = '../data/{}/{}'.format(target, target_pdb)\n",
    "    \n",
    "    for ligand in mol_dict[target]:\n",
    "        exp_dg = mol_dict[target][ligand]['Exp. dG']\n",
    "        pred_dg = mol_dict[target][ligand]['Pred. dG']\n",
    "        pred_error = mol_dict[target][ligand]['Pred. Error']\n",
    "\n",
    "        ligand_loc = '../data/{}/{}_ligand_{}.pdb'.format(target, target, ligand)\n",
    "        entry = {'target':target, 'target_loc':target_loc, 'ligand':ligand, 'ligand_loc':ligand_loc, 'Exp. dG':exp_dg, 'Pred. dG':pred_dg, 'Pred. Error':pred_error}\n",
    "        loc_dict['{}_{}'.format(target,ligand)] = entry\n",
    "\n",
    "loc_df = pd.DataFrame.from_dict(data=loc_dict, orient='index')\n",
    "pickle.dump(loc_df, open('../data/all_ligands_loc_df.pkl', 'wb'))\n",
    "loc_df.to_csv('../data/all_ligands_data.csv')\n"
   ]
  },
  {
   "cell_type": "code",
   "execution_count": 195,
   "metadata": {},
   "outputs": [
    {
     "data": {
      "text/plain": [
       "array(['pfkfb3', 'cdk8', 'shp2', 'hif2a', 'syk', 'tnks2', 'cmet', 'eg5'],\n",
       "      dtype=object)"
      ]
     },
     "execution_count": 195,
     "metadata": {},
     "output_type": "execute_result"
    }
   ],
   "source": [
    "loc_df.target.unique()"
   ]
  },
  {
   "attachments": {},
   "cell_type": "markdown",
   "metadata": {},
   "source": [
    "### Creating input files for AEScore"
   ]
  },
  {
   "cell_type": "code",
   "execution_count": 10,
   "metadata": {},
   "outputs": [],
   "source": [
    "def stratifiedSample(df, col, n_samples):\n",
    "    \"\"\"\n",
    "    Draw a sample from a dataframe, such that the sample is stratified based on the frequency of values in a column.\n",
    "    \"\"\"\n",
    "    return df.groupby(col, group_keys=False).apply(lambda x: x.sample(int(np.rint(n_samples*len(x)/len(df))))).sample(frac=1)\n"
   ]
  },
  {
   "cell_type": "code",
   "execution_count": 7,
   "metadata": {},
   "outputs": [],
   "source": [
    "loc_df = pickle.load(open('../data/all_ligands_loc_df.pkl', 'rb'))\n",
    "loc_df = loc_df.round({'dG': 2})"
   ]
  },
  {
   "cell_type": "code",
   "execution_count": 8,
   "metadata": {},
   "outputs": [
    {
     "data": {
      "text/html": [
       "<div>\n",
       "<style scoped>\n",
       "    .dataframe tbody tr th:only-of-type {\n",
       "        vertical-align: middle;\n",
       "    }\n",
       "\n",
       "    .dataframe tbody tr th {\n",
       "        vertical-align: top;\n",
       "    }\n",
       "\n",
       "    .dataframe thead th {\n",
       "        text-align: right;\n",
       "    }\n",
       "</style>\n",
       "<table border=\"1\" class=\"dataframe\">\n",
       "  <thead>\n",
       "    <tr style=\"text-align: right;\">\n",
       "      <th></th>\n",
       "      <th>target</th>\n",
       "      <th>target_loc</th>\n",
       "      <th>ligand</th>\n",
       "      <th>ligand_loc</th>\n",
       "      <th>Exp. dG</th>\n",
       "      <th>Pred. dG</th>\n",
       "      <th>Pred. Error</th>\n",
       "    </tr>\n",
       "  </thead>\n",
       "  <tbody>\n",
       "    <tr>\n",
       "      <th>pfkfb3_43</th>\n",
       "      <td>pfkfb3</td>\n",
       "      <td>../data/pfkfb3/6hvi_prepared.pdb</td>\n",
       "      <td>43</td>\n",
       "      <td>../data/pfkfb3/pfkfb3_ligand_43.pdb</td>\n",
       "      <td>-8.00</td>\n",
       "      <td>-8.82</td>\n",
       "      <td>0.11</td>\n",
       "    </tr>\n",
       "    <tr>\n",
       "      <th>pfkfb3_30</th>\n",
       "      <td>pfkfb3</td>\n",
       "      <td>../data/pfkfb3/6hvi_prepared.pdb</td>\n",
       "      <td>30</td>\n",
       "      <td>../data/pfkfb3/pfkfb3_ligand_30.pdb</td>\n",
       "      <td>-9.20</td>\n",
       "      <td>-9.41</td>\n",
       "      <td>0.10</td>\n",
       "    </tr>\n",
       "    <tr>\n",
       "      <th>pfkfb3_65</th>\n",
       "      <td>pfkfb3</td>\n",
       "      <td>../data/pfkfb3/6hvi_prepared.pdb</td>\n",
       "      <td>65</td>\n",
       "      <td>../data/pfkfb3/pfkfb3_ligand_65.pdb</td>\n",
       "      <td>-9.49</td>\n",
       "      <td>-9.34</td>\n",
       "      <td>0.09</td>\n",
       "    </tr>\n",
       "    <tr>\n",
       "      <th>pfkfb3_49</th>\n",
       "      <td>pfkfb3</td>\n",
       "      <td>../data/pfkfb3/6hvi_prepared.pdb</td>\n",
       "      <td>49</td>\n",
       "      <td>../data/pfkfb3/pfkfb3_ligand_49.pdb</td>\n",
       "      <td>-7.93</td>\n",
       "      <td>-6.68</td>\n",
       "      <td>0.10</td>\n",
       "    </tr>\n",
       "    <tr>\n",
       "      <th>pfkfb3_24</th>\n",
       "      <td>pfkfb3</td>\n",
       "      <td>../data/pfkfb3/6hvi_prepared.pdb</td>\n",
       "      <td>24</td>\n",
       "      <td>../data/pfkfb3/pfkfb3_ligand_24.pdb</td>\n",
       "      <td>-8.87</td>\n",
       "      <td>-9.79</td>\n",
       "      <td>0.11</td>\n",
       "    </tr>\n",
       "    <tr>\n",
       "      <th>...</th>\n",
       "      <td>...</td>\n",
       "      <td>...</td>\n",
       "      <td>...</td>\n",
       "      <td>...</td>\n",
       "      <td>...</td>\n",
       "      <td>...</td>\n",
       "      <td>...</td>\n",
       "    </tr>\n",
       "    <tr>\n",
       "      <th>eg5_CHEMBL1093088</th>\n",
       "      <td>eg5</td>\n",
       "      <td>../data/eg5/3l9h_prepared.pdb</td>\n",
       "      <td>CHEMBL1093088</td>\n",
       "      <td>../data/eg5/eg5_ligand_CHEMBL1093088.pdb</td>\n",
       "      <td>-11.22</td>\n",
       "      <td>-9.65</td>\n",
       "      <td>0.21</td>\n",
       "    </tr>\n",
       "    <tr>\n",
       "      <th>eg5_CHEMBL1084676</th>\n",
       "      <td>eg5</td>\n",
       "      <td>../data/eg5/3l9h_prepared.pdb</td>\n",
       "      <td>CHEMBL1084676</td>\n",
       "      <td>../data/eg5/eg5_ligand_CHEMBL1084676.pdb</td>\n",
       "      <td>-10.71</td>\n",
       "      <td>-10.60</td>\n",
       "      <td>0.27</td>\n",
       "    </tr>\n",
       "    <tr>\n",
       "      <th>eg5_CHEMBL1084935</th>\n",
       "      <td>eg5</td>\n",
       "      <td>../data/eg5/3l9h_prepared.pdb</td>\n",
       "      <td>CHEMBL1084935</td>\n",
       "      <td>../data/eg5/eg5_ligand_CHEMBL1084935.pdb</td>\n",
       "      <td>-10.53</td>\n",
       "      <td>-9.39</td>\n",
       "      <td>0.23</td>\n",
       "    </tr>\n",
       "    <tr>\n",
       "      <th>eg5_CHEMBL1078998</th>\n",
       "      <td>eg5</td>\n",
       "      <td>../data/eg5/3l9h_prepared.pdb</td>\n",
       "      <td>CHEMBL1078998</td>\n",
       "      <td>../data/eg5/eg5_ligand_CHEMBL1078998.pdb</td>\n",
       "      <td>-10.37</td>\n",
       "      <td>-10.45</td>\n",
       "      <td>0.21</td>\n",
       "    </tr>\n",
       "    <tr>\n",
       "      <th>eg5_CHEMBL1088740</th>\n",
       "      <td>eg5</td>\n",
       "      <td>../data/eg5/3l9h_prepared.pdb</td>\n",
       "      <td>CHEMBL1088740</td>\n",
       "      <td>../data/eg5/eg5_ligand_CHEMBL1088740.pdb</td>\n",
       "      <td>-8.70</td>\n",
       "      <td>-8.64</td>\n",
       "      <td>0.22</td>\n",
       "    </tr>\n",
       "  </tbody>\n",
       "</table>\n",
       "<p>264 rows × 7 columns</p>\n",
       "</div>"
      ],
      "text/plain": [
       "                   target                        target_loc         ligand   \n",
       "pfkfb3_43          pfkfb3  ../data/pfkfb3/6hvi_prepared.pdb             43  \\\n",
       "pfkfb3_30          pfkfb3  ../data/pfkfb3/6hvi_prepared.pdb             30   \n",
       "pfkfb3_65          pfkfb3  ../data/pfkfb3/6hvi_prepared.pdb             65   \n",
       "pfkfb3_49          pfkfb3  ../data/pfkfb3/6hvi_prepared.pdb             49   \n",
       "pfkfb3_24          pfkfb3  ../data/pfkfb3/6hvi_prepared.pdb             24   \n",
       "...                   ...                               ...            ...   \n",
       "eg5_CHEMBL1093088     eg5     ../data/eg5/3l9h_prepared.pdb  CHEMBL1093088   \n",
       "eg5_CHEMBL1084676     eg5     ../data/eg5/3l9h_prepared.pdb  CHEMBL1084676   \n",
       "eg5_CHEMBL1084935     eg5     ../data/eg5/3l9h_prepared.pdb  CHEMBL1084935   \n",
       "eg5_CHEMBL1078998     eg5     ../data/eg5/3l9h_prepared.pdb  CHEMBL1078998   \n",
       "eg5_CHEMBL1088740     eg5     ../data/eg5/3l9h_prepared.pdb  CHEMBL1088740   \n",
       "\n",
       "                                                 ligand_loc  Exp. dG   \n",
       "pfkfb3_43               ../data/pfkfb3/pfkfb3_ligand_43.pdb    -8.00  \\\n",
       "pfkfb3_30               ../data/pfkfb3/pfkfb3_ligand_30.pdb    -9.20   \n",
       "pfkfb3_65               ../data/pfkfb3/pfkfb3_ligand_65.pdb    -9.49   \n",
       "pfkfb3_49               ../data/pfkfb3/pfkfb3_ligand_49.pdb    -7.93   \n",
       "pfkfb3_24               ../data/pfkfb3/pfkfb3_ligand_24.pdb    -8.87   \n",
       "...                                                     ...      ...   \n",
       "eg5_CHEMBL1093088  ../data/eg5/eg5_ligand_CHEMBL1093088.pdb   -11.22   \n",
       "eg5_CHEMBL1084676  ../data/eg5/eg5_ligand_CHEMBL1084676.pdb   -10.71   \n",
       "eg5_CHEMBL1084935  ../data/eg5/eg5_ligand_CHEMBL1084935.pdb   -10.53   \n",
       "eg5_CHEMBL1078998  ../data/eg5/eg5_ligand_CHEMBL1078998.pdb   -10.37   \n",
       "eg5_CHEMBL1088740  ../data/eg5/eg5_ligand_CHEMBL1088740.pdb    -8.70   \n",
       "\n",
       "                   Pred. dG  Pred. Error  \n",
       "pfkfb3_43             -8.82         0.11  \n",
       "pfkfb3_30             -9.41         0.10  \n",
       "pfkfb3_65             -9.34         0.09  \n",
       "pfkfb3_49             -6.68         0.10  \n",
       "pfkfb3_24             -9.79         0.11  \n",
       "...                     ...          ...  \n",
       "eg5_CHEMBL1093088     -9.65         0.21  \n",
       "eg5_CHEMBL1084676    -10.60         0.27  \n",
       "eg5_CHEMBL1084935     -9.39         0.23  \n",
       "eg5_CHEMBL1078998    -10.45         0.21  \n",
       "eg5_CHEMBL1088740     -8.64         0.22  \n",
       "\n",
       "[264 rows x 7 columns]"
      ]
     },
     "execution_count": 8,
     "metadata": {},
     "output_type": "execute_result"
    }
   ],
   "source": [
    "loc_df"
   ]
  },
  {
   "cell_type": "code",
   "execution_count": 13,
   "metadata": {},
   "outputs": [],
   "source": [
    "loc_df['pK'] = [dg_to_pk(dg) for dg in loc_df['Exp. dG']]\n",
    "loc_df = loc_df.round({'pK': 2})\n",
    "\n",
    "loc_df['target_loc_abs'] = [os.path.abspath(path) for path in loc_df['target_loc']]\n",
    "loc_df['ligand_loc_abs'] = [os.path.abspath(path) for path in loc_df['ligand_loc']]"
   ]
  },
  {
   "cell_type": "code",
   "execution_count": 18,
   "metadata": {},
   "outputs": [],
   "source": [
    "loc_df[['pK', 'target_loc_abs', 'ligand_loc_abs']].to_csv('../data/test.dat', sep=' ', header=False, index=False)"
   ]
  },
  {
   "cell_type": "code",
   "execution_count": null,
   "metadata": {},
   "outputs": [],
   "source": [
    "val_set = stratifiedSample(loc_df, 'target', 20)\n",
    "test_set = stratifiedSample(loc_df[~loc_df.index.isin(val_set.index)], 'target', 20)\n",
    "train_set = loc_df[~loc_df.index.isin(val_set.index) & ~loc_df.index.isin(test_set.index)]"
   ]
  },
  {
   "cell_type": "code",
   "execution_count": 12,
   "metadata": {},
   "outputs": [
    {
     "name": "stdout",
     "output_type": "stream",
     "text": [
      "False 0\n"
     ]
    }
   ],
   "source": [
    "overlap = [i for i in train_set.index if i in val_set.index or i in test_set.index]\n",
    "print(bool(overlap), len(overlap))"
   ]
  },
  {
   "cell_type": "code",
   "execution_count": 13,
   "metadata": {},
   "outputs": [],
   "source": [
    "val_set[['dG','target_loc','ligand_loc']].to_csv('../data/valid.dat', header=False, index=False, sep=' ')\n",
    "test_set[['dG','target_loc','ligand_loc']].to_csv('../data/test.dat', header=False, index=False, sep=' ')\n",
    "train_set[['dG','target_loc','ligand_loc']].to_csv('../data/train.dat', header=False, index=False, sep=' ')"
   ]
  },
  {
   "cell_type": "code",
   "execution_count": null,
   "metadata": {},
   "outputs": [],
   "source": []
  }
 ],
 "metadata": {
  "kernelspec": {
   "display_name": "aescore",
   "language": "python",
   "name": "python3"
  },
  "language_info": {
   "codemirror_mode": {
    "name": "ipython",
    "version": 3
   },
   "file_extension": ".py",
   "mimetype": "text/x-python",
   "name": "python",
   "nbconvert_exporter": "python",
   "pygments_lexer": "ipython3",
   "version": "3.11.3"
  },
  "orig_nbformat": 4
 },
 "nbformat": 4,
 "nbformat_minor": 2
}
